{
 "cells": [
  {
   "attachments": {},
   "cell_type": "markdown",
   "metadata": {},
   "source": [
    "## GDP Predictor\n",
    "We are going to predict the GDP of any given country for the periods 2021 to 2030, using 5 dataset from \"The World Bank\" dataset. Users get to select the country they would like to predict from the web application and the GDP for that selected country (from 2021 to 203\n",
    "0) is displayed.\n",
    "\n",
    "We are going to follow the following steps:\n",
    "1. Import the required libraries\n",
    "2. Create necessary user defined Functions\n",
    "3. Load the data\n",
    "4. Exploratory Data Analysis  \n",
    "        - Data Preprocessing                                                                                                                      \n",
    "        - Data Visualization                     \n",
    "5. Prepare feature matrix X and target vector y\n",
    "6. Create a training and validation set\n",
    "7. Compare model\n",
    "8. Select the best model\n",
    "9. Re-train the best model on the training set\n",
    "10. Evaluate the model on the validation set\n",
    "11. Predict using the testing data\n",
    "\n",
    "\n",
    "#### Dataset\n",
    "\n",
    "We are using 5 different datasets from [The World Bank](https://datacatalog.worldbank.org/home) data that has the following indicators listed below. \n",
    "\n",
    "Number of Countries: 266\n",
    "\n",
    "Interested Features from the datasets for each country:\n",
    "- Year (From 1980 to 2020)      \n",
    "- The following indicators:\n",
    "        - Literacy rate, adult total (% of people ages 15 and above)    \n",
    "        - Population, total     \n",
    "        - Mortality rate, infant (per 1,000 live births)        \n",
    "        - Export Value Index (2000 = 100) (current value of exports (f.o.b.) converted to U.S. dollars and expressed as a percentage of the average for the base period (2000)) \n",
    "\n",
    "Target Variable Indicator\n",
    "- GDP (current US$)"
   ]
  },
  {
   "attachments": {},
   "cell_type": "markdown",
   "metadata": {},
   "source": [
    "#### Libraries"
   ]
  },
  {
   "cell_type": "code",
   "execution_count": 172,
   "metadata": {},
   "outputs": [],
   "source": [
    "# Import libraries\n",
    "import numpy as np\n",
    "import pandas as pd\n",
    "import matplotlib.pyplot as plt\n",
    "import seaborn as sns\n",
    "from sklearn.model_selection import cross_validate\n",
    "from sklearn.linear_model import LinearRegression\n",
    "from sklearn.ensemble import RandomForestRegressor, GradientBoostingRegressor\n",
    "from sklearn.model_selection import train_test_split\n",
    "from sklearn.metrics import mean_squared_error, r2_score\n",
    "from sklearn.model_selection import cross_val_score\n",
    "import warnings"
   ]
  },
  {
   "attachments": {},
   "cell_type": "markdown",
   "metadata": {},
   "source": [
    "#### User Defined Functions"
   ]
  },
  {
   "cell_type": "code",
   "execution_count": 173,
   "metadata": {},
   "outputs": [],
   "source": [
    "def get_country_data(country_name):\n",
    "    '''Returns the data for the specific country name provided from the data store for all countries.\n",
    "    \n",
    "        For the user specified country name, return:\n",
    "        - country data,\n",
    "        consisting of the following features:\n",
    "        - Country Name, Year, GDP, Literacy Rate, Mortality Rate, Population and Export Value Index\n",
    "                \n",
    "    '''\n",
    "    # Get the list of country names\n",
    "    countries = GDP_data['Country Name'].unique().tolist()\n",
    "\n",
    "    # Create a dataframe to store the data for all countries\n",
    "    df = pd.DataFrame(columns=['Country Name', 'Year', 'GDP', 'Literacy Rate', 'Mortality Rate', 'Population', 'Export Value Index'])\n",
    "    for country in countries:\n",
    "        # Extract the data for the country from each data set\n",
    "        GDP = GDP_data.loc[GDP_data['Country Name'] == country].iloc[0, 1:].tolist()\n",
    "        literacy_rate = literacy_rate_data.loc[literacy_rate_data['Country Name'] == country].iloc[0, 1:].tolist()\n",
    "        mortality_rate = mortality_rate_data.loc[mortality_rate_data['Country Name'] == country].iloc[0, 1:].tolist()\n",
    "        population = population_data.loc[population_data['Country Name'] == country].iloc[0, 1:].tolist()\n",
    "        EVI = EVI_data.loc[EVI_data['Country Name'] == country].iloc[0, 1:].tolist()\n",
    "        \n",
    "        # Combine the data into a list of tuples\n",
    "        data = list(zip([country]*len(GDP), GDP_data.columns[1:], GDP, literacy_rate, mortality_rate, population, EVI))\n",
    "        \n",
    "        # Append the data to the dataframe\n",
    "        # df = df.append(pd.DataFrame(data, columns=df.columns))\n",
    "        df = pd.concat([df, pd.DataFrame(data, columns=df.columns)])\n",
    "    return df\n",
    "\n",
    "\n",
    "def handle_missing_value_train_data():\n",
    "    '''Fill the missing values in the training set with the average value and drop missing value of a particular if all values of the column are null\n",
    "        return:\n",
    "        - the training data\n",
    "                \n",
    "    '''\n",
    "    # Fill the missing values in the training set\n",
    "    train_data['Literacy Rate'].fillna((train_data['Literacy Rate'].mean()), inplace=True)\n",
    "    train_data['Export Value Index'].fillna((train_data['Export Value Index'].mean()), inplace=True)\n",
    "    train_data['GDP in Ten Years'].fillna((train_data['GDP in Ten Years'].mean()), inplace=True)\n",
    "    train_data['Mortality Rate'].fillna((train_data['Mortality Rate'].mean()), inplace=True)\n",
    "    train_data['Population'].fillna((train_data['Population'].mean()), inplace=True)\n",
    "    train_data.dropna(axis=1, inplace=True) \n",
    "    return train_data\n",
    "\n",
    "\n",
    "def handle_missing_value_test_data():\n",
    "    '''Fill the missing values in the testing set with the average value and drop missing value of a particular if all values of the column are null\n",
    "        return:\n",
    "        - the testing data\n",
    "                \n",
    "    '''\n",
    "    # Fill the missing values in the training set\n",
    "    test_data['Literacy Rate'].fillna((test_data['Literacy Rate'].mean()), inplace=True)\n",
    "    test_data['Export Value Index'].fillna((test_data['Export Value Index'].mean()), inplace=True)\n",
    "    test_data['Mortality Rate'].fillna((test_data['Mortality Rate'].mean()), inplace=True)\n",
    "    test_data['Population'].fillna((test_data['Population'].mean()), inplace=True)\n",
    "    test_data.dropna(axis=1, inplace=True)\n",
    "    return test_data\n",
    "\n",
    "\n",
    "def get_user_input():\n",
    "    '''Get user input from list of countries\n",
    "        return:\n",
    "        - the country name\n",
    "                \n",
    "    '''\n",
    "    countries = GDP_data['Country Name'].unique().tolist()\n",
    "    while True:\n",
    "        try: \n",
    "            country_Name = input(\"Please enter a country name from the country list displayed as written: \")\n",
    "            if (country_Name in countries):\n",
    "                return country_Name\n",
    "            else: \n",
    "                raise ValueError(\"You must enter a valid country name from the country list provided.\")         \n",
    "        except ValueError:\n",
    "            return (\"You must enter a valid country name from the country list provided.\")\n",
    "    return country_Name\n",
    "    \n",
    "\n"
   ]
  },
  {
   "attachments": {},
   "cell_type": "markdown",
   "metadata": {},
   "source": [
    "#### Load the Data"
   ]
  },
  {
   "cell_type": "code",
   "execution_count": 174,
   "metadata": {},
   "outputs": [],
   "source": [
    "# Read the data\n",
    "GDP_data = pd.read_excel('dataset\\API_NY.GDP.MKTP.CD_DS2_en_excel_v2_4770502.xls', usecols=np.r_[0, 24:65], skiprows=3)\n",
    "literacy_rate_data = pd.read_excel('dataset\\API_SE.ADT.LITR.ZS_DS2_en_excel_v2_4773710.xls', usecols=np.r_[0, 24:65], skiprows=3)\n",
    "mortality_rate_data = pd.read_excel('dataset\\API_SP.DYN.IMRT.IN_DS2_en_excel_v2_4770604.xls', usecols=np.r_[0, 24:65], skiprows=3)\n",
    "population_data = pd.read_excel('dataset\\API_SP.POP.TOTL_DS2_en_excel_v2_4770385.xls', usecols=np.r_[0, 24:65], skiprows=3)\n",
    "EVI_data = pd.read_excel('dataset\\API_TX.VAL.MRCH.XD.WD_DS2_en_excel_v2_4774581.xls', usecols=np.r_[0, 24:65], skiprows=3)"
   ]
  },
  {
   "attachments": {},
   "cell_type": "markdown",
   "metadata": {},
   "source": [
    "### Exploratory Data Analysis\n",
    "\n",
    "#### Data Preprocessing\n",
    "Choose a country and explore the data based on the choice country."
   ]
  },
  {
   "cell_type": "code",
   "execution_count": 175,
   "metadata": {},
   "outputs": [
    {
     "name": "stdout",
     "output_type": "stream",
     "text": [
      "['Aruba', 'Africa Eastern and Southern', 'Afghanistan', 'Africa Western and Central', 'Angola', 'Albania', 'Andorra', 'Arab World', 'United Arab Emirates', 'Argentina', 'Armenia', 'American Samoa', 'Antigua and Barbuda', 'Australia', 'Austria', 'Azerbaijan', 'Burundi', 'Belgium', 'Benin', 'Burkina Faso', 'Bangladesh', 'Bulgaria', 'Bahrain', 'Bahamas, The', 'Bosnia and Herzegovina', 'Belarus', 'Belize', 'Bermuda', 'Bolivia', 'Brazil', 'Barbados', 'Brunei Darussalam', 'Bhutan', 'Botswana', 'Central African Republic', 'Canada', 'Central Europe and the Baltics', 'Switzerland', 'Channel Islands', 'Chile', 'China', \"Cote d'Ivoire\", 'Cameroon', 'Congo, Dem. Rep.', 'Congo, Rep.', 'Colombia', 'Comoros', 'Cabo Verde', 'Costa Rica', 'Caribbean small states', 'Cuba', 'Curacao', 'Cayman Islands', 'Cyprus', 'Czechia', 'Germany', 'Djibouti', 'Dominica', 'Denmark', 'Dominican Republic', 'Algeria', 'East Asia & Pacific (excluding high income)', 'Early-demographic dividend', 'East Asia & Pacific', 'Europe & Central Asia (excluding high income)', 'Europe & Central Asia', 'Ecuador', 'Egypt, Arab Rep.', 'Euro area', 'Eritrea', 'Spain', 'Estonia', 'Ethiopia', 'European Union', 'Fragile and conflict affected situations', 'Finland', 'Fiji', 'France', 'Faroe Islands', 'Micronesia, Fed. Sts.', 'Gabon', 'United Kingdom', 'Georgia', 'Ghana', 'Gibraltar', 'Guinea', 'Gambia, The', 'Guinea-Bissau', 'Equatorial Guinea', 'Greece', 'Grenada', 'Greenland', 'Guatemala', 'Guam', 'Guyana', 'High income', 'Hong Kong SAR, China', 'Honduras', 'Heavily indebted poor countries (HIPC)', 'Croatia', 'Haiti', 'Hungary', 'IBRD only', 'IDA & IBRD total', 'IDA total', 'IDA blend', 'Indonesia', 'IDA only', 'Isle of Man', 'India', 'Not classified', 'Ireland', 'Iran, Islamic Rep.', 'Iraq', 'Iceland', 'Israel', 'Italy', 'Jamaica', 'Jordan', 'Japan', 'Kazakhstan', 'Kenya', 'Kyrgyz Republic', 'Cambodia', 'Kiribati', 'St. Kitts and Nevis', 'Korea, Rep.', 'Kuwait', 'Latin America & Caribbean (excluding high income)', 'Lao PDR', 'Lebanon', 'Liberia', 'Libya', 'St. Lucia', 'Latin America & Caribbean', 'Least developed countries: UN classification', 'Low income', 'Liechtenstein', 'Sri Lanka', 'Lower middle income', 'Low & middle income', 'Lesotho', 'Late-demographic dividend', 'Lithuania', 'Luxembourg', 'Latvia', 'Macao SAR, China', 'St. Martin (French part)', 'Morocco', 'Monaco', 'Moldova', 'Madagascar', 'Maldives', 'Middle East & North Africa', 'Mexico', 'Marshall Islands', 'Middle income', 'North Macedonia', 'Mali', 'Malta', 'Myanmar', 'Middle East & North Africa (excluding high income)', 'Montenegro', 'Mongolia', 'Northern Mariana Islands', 'Mozambique', 'Mauritania', 'Mauritius', 'Malawi', 'Malaysia', 'North America', 'Namibia', 'New Caledonia', 'Niger', 'Nigeria', 'Nicaragua', 'Netherlands', 'Norway', 'Nepal', 'Nauru', 'New Zealand', 'OECD members', 'Oman', 'Other small states', 'Pakistan', 'Panama', 'Peru', 'Philippines', 'Palau', 'Papua New Guinea', 'Poland', 'Pre-demographic dividend', 'Puerto Rico', \"Korea, Dem. People's Rep.\", 'Portugal', 'Paraguay', 'West Bank and Gaza', 'Pacific island small states', 'Post-demographic dividend', 'French Polynesia', 'Qatar', 'Romania', 'Russian Federation', 'Rwanda', 'South Asia', 'Saudi Arabia', 'Sudan', 'Senegal', 'Singapore', 'Solomon Islands', 'Sierra Leone', 'El Salvador', 'San Marino', 'Somalia', 'Serbia', 'Sub-Saharan Africa (excluding high income)', 'South Sudan', 'Sub-Saharan Africa', 'Small states', 'Sao Tome and Principe', 'Suriname', 'Slovak Republic', 'Slovenia', 'Sweden', 'Eswatini', 'Sint Maarten (Dutch part)', 'Seychelles', 'Syrian Arab Republic', 'Turks and Caicos Islands', 'Chad', 'East Asia & Pacific (IDA & IBRD countries)', 'Europe & Central Asia (IDA & IBRD countries)', 'Togo', 'Thailand', 'Tajikistan', 'Turkmenistan', 'Latin America & the Caribbean (IDA & IBRD countries)', 'Timor-Leste', 'Middle East & North Africa (IDA & IBRD countries)', 'Tonga', 'South Asia (IDA & IBRD)', 'Sub-Saharan Africa (IDA & IBRD countries)', 'Trinidad and Tobago', 'Tunisia', 'Turkiye', 'Tuvalu', 'Tanzania', 'Uganda', 'Ukraine', 'Upper middle income', 'Uruguay', 'United States', 'Uzbekistan', 'St. Vincent and the Grenadines', 'Venezuela, RB', 'British Virgin Islands', 'Virgin Islands (U.S.)', 'Vietnam', 'Vanuatu', 'World', 'Samoa', 'Kosovo', 'Yemen, Rep.', 'South Africa', 'Zambia', 'Zimbabwe']\n"
     ]
    }
   ],
   "source": [
    "countries = GDP_data['Country Name'].unique().tolist()\n",
    "print(countries)\n",
    "country_name = get_user_input()"
   ]
  },
  {
   "cell_type": "code",
   "execution_count": 176,
   "metadata": {},
   "outputs": [
    {
     "data": {
      "text/html": [
       "<div>\n",
       "<style scoped>\n",
       "    .dataframe tbody tr th:only-of-type {\n",
       "        vertical-align: middle;\n",
       "    }\n",
       "\n",
       "    .dataframe tbody tr th {\n",
       "        vertical-align: top;\n",
       "    }\n",
       "\n",
       "    .dataframe thead th {\n",
       "        text-align: right;\n",
       "    }\n",
       "</style>\n",
       "<table border=\"1\" class=\"dataframe\">\n",
       "  <thead>\n",
       "    <tr style=\"text-align: right;\">\n",
       "      <th></th>\n",
       "      <th>Country Name</th>\n",
       "      <th>Year</th>\n",
       "      <th>GDP</th>\n",
       "      <th>Literacy Rate</th>\n",
       "      <th>Mortality Rate</th>\n",
       "      <th>Population</th>\n",
       "      <th>Export Value Index</th>\n",
       "    </tr>\n",
       "  </thead>\n",
       "  <tbody>\n",
       "    <tr>\n",
       "      <th>0</th>\n",
       "      <td>Canada</td>\n",
       "      <td>1980</td>\n",
       "      <td>2.738538e+11</td>\n",
       "      <td>NaN</td>\n",
       "      <td>10.3</td>\n",
       "      <td>24515667.0</td>\n",
       "      <td>NaN</td>\n",
       "    </tr>\n",
       "    <tr>\n",
       "      <th>1</th>\n",
       "      <td>Canada</td>\n",
       "      <td>1981</td>\n",
       "      <td>3.062149e+11</td>\n",
       "      <td>NaN</td>\n",
       "      <td>9.7</td>\n",
       "      <td>24819915.0</td>\n",
       "      <td>NaN</td>\n",
       "    </tr>\n",
       "    <tr>\n",
       "      <th>2</th>\n",
       "      <td>Canada</td>\n",
       "      <td>1982</td>\n",
       "      <td>3.135065e+11</td>\n",
       "      <td>NaN</td>\n",
       "      <td>9.2</td>\n",
       "      <td>25116942.0</td>\n",
       "      <td>NaN</td>\n",
       "    </tr>\n",
       "    <tr>\n",
       "      <th>3</th>\n",
       "      <td>Canada</td>\n",
       "      <td>1983</td>\n",
       "      <td>3.405477e+11</td>\n",
       "      <td>NaN</td>\n",
       "      <td>8.7</td>\n",
       "      <td>25366451.0</td>\n",
       "      <td>NaN</td>\n",
       "    </tr>\n",
       "    <tr>\n",
       "      <th>4</th>\n",
       "      <td>Canada</td>\n",
       "      <td>1984</td>\n",
       "      <td>3.553726e+11</td>\n",
       "      <td>NaN</td>\n",
       "      <td>8.3</td>\n",
       "      <td>25607053.0</td>\n",
       "      <td>NaN</td>\n",
       "    </tr>\n",
       "  </tbody>\n",
       "</table>\n",
       "</div>"
      ],
      "text/plain": [
       "  Country Name  Year           GDP  Literacy Rate  Mortality Rate  Population  \\\n",
       "0       Canada  1980  2.738538e+11            NaN            10.3  24515667.0   \n",
       "1       Canada  1981  3.062149e+11            NaN             9.7  24819915.0   \n",
       "2       Canada  1982  3.135065e+11            NaN             9.2  25116942.0   \n",
       "3       Canada  1983  3.405477e+11            NaN             8.7  25366451.0   \n",
       "4       Canada  1984  3.553726e+11            NaN             8.3  25607053.0   \n",
       "\n",
       "   Export Value Index  \n",
       "0                 NaN  \n",
       "1                 NaN  \n",
       "2                 NaN  \n",
       "3                 NaN  \n",
       "4                 NaN  "
      ]
     },
     "execution_count": 176,
     "metadata": {},
     "output_type": "execute_result"
    }
   ],
   "source": [
    "# # #Provided country\n",
    "# country_name = 'Aruba'\n",
    "\n",
    "df = get_country_data(country_name)\n",
    "# print(df)\n",
    "# Display the data for a specific country\n",
    "model_data = df.loc[df['Country Name'] == country_name]\n",
    "model_data.head()"
   ]
  },
  {
   "attachments": {},
   "cell_type": "markdown",
   "metadata": {},
   "source": [
    "##### Prepare the training and testing data"
   ]
  },
  {
   "cell_type": "code",
   "execution_count": 177,
   "metadata": {},
   "outputs": [
    {
     "name": "stdout",
     "output_type": "stream",
     "text": [
      "Canada Training Data\n"
     ]
    },
    {
     "data": {
      "text/html": [
       "<div>\n",
       "<style scoped>\n",
       "    .dataframe tbody tr th:only-of-type {\n",
       "        vertical-align: middle;\n",
       "    }\n",
       "\n",
       "    .dataframe tbody tr th {\n",
       "        vertical-align: top;\n",
       "    }\n",
       "\n",
       "    .dataframe thead th {\n",
       "        text-align: right;\n",
       "    }\n",
       "</style>\n",
       "<table border=\"1\" class=\"dataframe\">\n",
       "  <thead>\n",
       "    <tr style=\"text-align: right;\">\n",
       "      <th></th>\n",
       "      <th>Year</th>\n",
       "      <th>Literacy Rate</th>\n",
       "      <th>Population</th>\n",
       "      <th>Export Value Index</th>\n",
       "      <th>Mortality Rate</th>\n",
       "      <th>GDP in Ten Years</th>\n",
       "    </tr>\n",
       "  </thead>\n",
       "  <tbody>\n",
       "    <tr>\n",
       "      <th>0</th>\n",
       "      <td>1980</td>\n",
       "      <td>NaN</td>\n",
       "      <td>24515667.0</td>\n",
       "      <td>NaN</td>\n",
       "      <td>10.3</td>\n",
       "      <td>5.939296e+11</td>\n",
       "    </tr>\n",
       "    <tr>\n",
       "      <th>1</th>\n",
       "      <td>1981</td>\n",
       "      <td>NaN</td>\n",
       "      <td>24819915.0</td>\n",
       "      <td>NaN</td>\n",
       "      <td>9.7</td>\n",
       "      <td>6.103282e+11</td>\n",
       "    </tr>\n",
       "    <tr>\n",
       "      <th>2</th>\n",
       "      <td>1982</td>\n",
       "      <td>NaN</td>\n",
       "      <td>25116942.0</td>\n",
       "      <td>NaN</td>\n",
       "      <td>9.2</td>\n",
       "      <td>5.923877e+11</td>\n",
       "    </tr>\n",
       "    <tr>\n",
       "      <th>3</th>\n",
       "      <td>1983</td>\n",
       "      <td>NaN</td>\n",
       "      <td>25366451.0</td>\n",
       "      <td>NaN</td>\n",
       "      <td>8.7</td>\n",
       "      <td>5.771708e+11</td>\n",
       "    </tr>\n",
       "    <tr>\n",
       "      <th>4</th>\n",
       "      <td>1984</td>\n",
       "      <td>NaN</td>\n",
       "      <td>25607053.0</td>\n",
       "      <td>NaN</td>\n",
       "      <td>8.3</td>\n",
       "      <td>5.781393e+11</td>\n",
       "    </tr>\n",
       "  </tbody>\n",
       "</table>\n",
       "</div>"
      ],
      "text/plain": [
       "   Year  Literacy Rate  Population  Export Value Index  Mortality Rate  \\\n",
       "0  1980            NaN  24515667.0                 NaN            10.3   \n",
       "1  1981            NaN  24819915.0                 NaN             9.7   \n",
       "2  1982            NaN  25116942.0                 NaN             9.2   \n",
       "3  1983            NaN  25366451.0                 NaN             8.7   \n",
       "4  1984            NaN  25607053.0                 NaN             8.3   \n",
       "\n",
       "   GDP in Ten Years  \n",
       "0      5.939296e+11  \n",
       "1      6.103282e+11  \n",
       "2      5.923877e+11  \n",
       "3      5.771708e+11  \n",
       "4      5.781393e+11  "
      ]
     },
     "execution_count": 177,
     "metadata": {},
     "output_type": "execute_result"
    }
   ],
   "source": [
    "# Add the GDP in Ten Years (1990 to 2020) for each year from 1980 to 2010\n",
    "with warnings.catch_warnings():\n",
    "    warnings.filterwarnings('ignore', category=pd.core.common.SettingWithCopyWarning)\n",
    "    model_data['Year'] = model_data['Year'].astype(int)\n",
    "# model_data['Year'] = model_data['Year'].astype(int)\n",
    "model_GDP = model_data[['Year', 'GDP']]\n",
    "row_GDP = (model_GDP['Year'] >= 1990) & (model_GDP['Year'] <= 2020)\n",
    "model_data_GDP = model_GDP.loc[row_GDP, ['GDP']].reset_index(drop=True)\n",
    "model_data_GDP = model_data_GDP.rename(columns={'GDP': 'GDP in Ten Years'})\n",
    "\n",
    "country_data = model_data.drop(columns=['GDP'])\n",
    "row_index = (country_data['Year'] >= 1980) & (country_data['Year'] <= 2010)\n",
    "columns = ['Year', 'Literacy Rate', 'Population', 'Export Value Index', 'Mortality Rate']\n",
    "model_data_range = country_data.loc[row_index, columns]\n",
    "\n",
    "# Save data as training data for the specific country\n",
    "train_data = pd.concat([model_data_range, model_data_GDP], axis=1)\n",
    "print(country_name, \"Training Data\")\n",
    "train_data.head()"
   ]
  },
  {
   "cell_type": "code",
   "execution_count": 178,
   "metadata": {},
   "outputs": [
    {
     "name": "stdout",
     "output_type": "stream",
     "text": [
      "<class 'pandas.core.frame.DataFrame'>\n",
      "Int64Index: 31 entries, 0 to 30\n",
      "Data columns (total 6 columns):\n",
      " #   Column              Non-Null Count  Dtype  \n",
      "---  ------              --------------  -----  \n",
      " 0   Year                31 non-null     int32  \n",
      " 1   Literacy Rate       0 non-null      float64\n",
      " 2   Population          31 non-null     float64\n",
      " 3   Export Value Index  16 non-null     float64\n",
      " 4   Mortality Rate      31 non-null     float64\n",
      " 5   GDP in Ten Years    31 non-null     float64\n",
      "dtypes: float64(5), int32(1)\n",
      "memory usage: 1.6 KB\n"
     ]
    }
   ],
   "source": [
    "# Show the data information for training data\n",
    "train_data.info()"
   ]
  },
  {
   "cell_type": "code",
   "execution_count": 179,
   "metadata": {},
   "outputs": [
    {
     "data": {
      "text/plain": [
       "Year                   0\n",
       "Literacy Rate         31\n",
       "Population             0\n",
       "Export Value Index    15\n",
       "Mortality Rate         0\n",
       "GDP in Ten Years       0\n",
       "dtype: int64"
      ]
     },
     "execution_count": 179,
     "metadata": {},
     "output_type": "execute_result"
    }
   ],
   "source": [
    "# Get the sum of the missing values in the training set\n",
    "train_data.isna().sum()"
   ]
  },
  {
   "cell_type": "code",
   "execution_count": 180,
   "metadata": {},
   "outputs": [
    {
     "data": {
      "text/html": [
       "<div>\n",
       "<style scoped>\n",
       "    .dataframe tbody tr th:only-of-type {\n",
       "        vertical-align: middle;\n",
       "    }\n",
       "\n",
       "    .dataframe tbody tr th {\n",
       "        vertical-align: top;\n",
       "    }\n",
       "\n",
       "    .dataframe thead th {\n",
       "        text-align: right;\n",
       "    }\n",
       "</style>\n",
       "<table border=\"1\" class=\"dataframe\">\n",
       "  <thead>\n",
       "    <tr style=\"text-align: right;\">\n",
       "      <th></th>\n",
       "      <th>Year</th>\n",
       "      <th>Population</th>\n",
       "      <th>Export Value Index</th>\n",
       "      <th>Mortality Rate</th>\n",
       "      <th>GDP in Ten Years</th>\n",
       "    </tr>\n",
       "  </thead>\n",
       "  <tbody>\n",
       "    <tr>\n",
       "      <th>0</th>\n",
       "      <td>1980</td>\n",
       "      <td>24515667.0</td>\n",
       "      <td>107.747811</td>\n",
       "      <td>10.3</td>\n",
       "      <td>5.939296e+11</td>\n",
       "    </tr>\n",
       "    <tr>\n",
       "      <th>1</th>\n",
       "      <td>1981</td>\n",
       "      <td>24819915.0</td>\n",
       "      <td>107.747811</td>\n",
       "      <td>9.7</td>\n",
       "      <td>6.103282e+11</td>\n",
       "    </tr>\n",
       "    <tr>\n",
       "      <th>2</th>\n",
       "      <td>1982</td>\n",
       "      <td>25116942.0</td>\n",
       "      <td>107.747811</td>\n",
       "      <td>9.2</td>\n",
       "      <td>5.923877e+11</td>\n",
       "    </tr>\n",
       "    <tr>\n",
       "      <th>3</th>\n",
       "      <td>1983</td>\n",
       "      <td>25366451.0</td>\n",
       "      <td>107.747811</td>\n",
       "      <td>8.7</td>\n",
       "      <td>5.771708e+11</td>\n",
       "    </tr>\n",
       "    <tr>\n",
       "      <th>4</th>\n",
       "      <td>1984</td>\n",
       "      <td>25607053.0</td>\n",
       "      <td>107.747811</td>\n",
       "      <td>8.3</td>\n",
       "      <td>5.781393e+11</td>\n",
       "    </tr>\n",
       "  </tbody>\n",
       "</table>\n",
       "</div>"
      ],
      "text/plain": [
       "   Year  Population  Export Value Index  Mortality Rate  GDP in Ten Years\n",
       "0  1980  24515667.0          107.747811            10.3      5.939296e+11\n",
       "1  1981  24819915.0          107.747811             9.7      6.103282e+11\n",
       "2  1982  25116942.0          107.747811             9.2      5.923877e+11\n",
       "3  1983  25366451.0          107.747811             8.7      5.771708e+11\n",
       "4  1984  25607053.0          107.747811             8.3      5.781393e+11"
      ]
     },
     "execution_count": 180,
     "metadata": {},
     "output_type": "execute_result"
    }
   ],
   "source": [
    "# Fill the missing values in the training set\n",
    "train_data = handle_missing_value_train_data()\n",
    "train_data.head()"
   ]
  },
  {
   "cell_type": "code",
   "execution_count": 181,
   "metadata": {},
   "outputs": [
    {
     "name": "stdout",
     "output_type": "stream",
     "text": [
      "Canada Testing Data\n"
     ]
    },
    {
     "data": {
      "text/html": [
       "<div>\n",
       "<style scoped>\n",
       "    .dataframe tbody tr th:only-of-type {\n",
       "        vertical-align: middle;\n",
       "    }\n",
       "\n",
       "    .dataframe tbody tr th {\n",
       "        vertical-align: top;\n",
       "    }\n",
       "\n",
       "    .dataframe thead th {\n",
       "        text-align: right;\n",
       "    }\n",
       "</style>\n",
       "<table border=\"1\" class=\"dataframe\">\n",
       "  <thead>\n",
       "    <tr style=\"text-align: right;\">\n",
       "      <th></th>\n",
       "      <th>Year</th>\n",
       "      <th>Literacy Rate</th>\n",
       "      <th>Population</th>\n",
       "      <th>Export Value Index</th>\n",
       "      <th>Mortality Rate</th>\n",
       "    </tr>\n",
       "  </thead>\n",
       "  <tbody>\n",
       "    <tr>\n",
       "      <th>0</th>\n",
       "      <td>2011</td>\n",
       "      <td>NaN</td>\n",
       "      <td>34339328.0</td>\n",
       "      <td>163.162287</td>\n",
       "      <td>4.9</td>\n",
       "    </tr>\n",
       "    <tr>\n",
       "      <th>1</th>\n",
       "      <td>2012</td>\n",
       "      <td>NaN</td>\n",
       "      <td>34714222.0</td>\n",
       "      <td>164.701312</td>\n",
       "      <td>4.9</td>\n",
       "    </tr>\n",
       "    <tr>\n",
       "      <th>2</th>\n",
       "      <td>2013</td>\n",
       "      <td>NaN</td>\n",
       "      <td>35082954.0</td>\n",
       "      <td>165.686768</td>\n",
       "      <td>4.8</td>\n",
       "    </tr>\n",
       "    <tr>\n",
       "      <th>3</th>\n",
       "      <td>2014</td>\n",
       "      <td>NaN</td>\n",
       "      <td>35437435.0</td>\n",
       "      <td>172.187604</td>\n",
       "      <td>4.7</td>\n",
       "    </tr>\n",
       "    <tr>\n",
       "      <th>4</th>\n",
       "      <td>2015</td>\n",
       "      <td>NaN</td>\n",
       "      <td>35702908.0</td>\n",
       "      <td>148.241911</td>\n",
       "      <td>4.7</td>\n",
       "    </tr>\n",
       "    <tr>\n",
       "      <th>5</th>\n",
       "      <td>2016</td>\n",
       "      <td>NaN</td>\n",
       "      <td>36109487.0</td>\n",
       "      <td>140.985986</td>\n",
       "      <td>4.6</td>\n",
       "    </tr>\n",
       "    <tr>\n",
       "      <th>6</th>\n",
       "      <td>2017</td>\n",
       "      <td>NaN</td>\n",
       "      <td>36545236.0</td>\n",
       "      <td>152.075042</td>\n",
       "      <td>4.6</td>\n",
       "    </tr>\n",
       "    <tr>\n",
       "      <th>7</th>\n",
       "      <td>2018</td>\n",
       "      <td>NaN</td>\n",
       "      <td>37065084.0</td>\n",
       "      <td>162.948281</td>\n",
       "      <td>4.5</td>\n",
       "    </tr>\n",
       "    <tr>\n",
       "      <th>8</th>\n",
       "      <td>2019</td>\n",
       "      <td>NaN</td>\n",
       "      <td>37601230.0</td>\n",
       "      <td>161.445246</td>\n",
       "      <td>4.4</td>\n",
       "    </tr>\n",
       "    <tr>\n",
       "      <th>9</th>\n",
       "      <td>2020</td>\n",
       "      <td>NaN</td>\n",
       "      <td>38037204.0</td>\n",
       "      <td>141.205834</td>\n",
       "      <td>4.4</td>\n",
       "    </tr>\n",
       "  </tbody>\n",
       "</table>\n",
       "</div>"
      ],
      "text/plain": [
       "   Year  Literacy Rate  Population  Export Value Index  Mortality Rate\n",
       "0  2011            NaN  34339328.0          163.162287             4.9\n",
       "1  2012            NaN  34714222.0          164.701312             4.9\n",
       "2  2013            NaN  35082954.0          165.686768             4.8\n",
       "3  2014            NaN  35437435.0          172.187604             4.7\n",
       "4  2015            NaN  35702908.0          148.241911             4.7\n",
       "5  2016            NaN  36109487.0          140.985986             4.6\n",
       "6  2017            NaN  36545236.0          152.075042             4.6\n",
       "7  2018            NaN  37065084.0          162.948281             4.5\n",
       "8  2019            NaN  37601230.0          161.445246             4.4\n",
       "9  2020            NaN  38037204.0          141.205834             4.4"
      ]
     },
     "execution_count": 181,
     "metadata": {},
     "output_type": "execute_result"
    }
   ],
   "source": [
    "# Prepare the new testing data for the periods from 2011 to 2020\n",
    "row_index = (model_data['Year'] >= 2011) & (model_data['Year'] <= 2020)\n",
    "columns = ['Year', 'Literacy Rate', 'Population', 'Export Value Index', 'Mortality Rate']\n",
    "test_data = model_data.loc[row_index, columns].reset_index(drop=True)\n",
    "print(country_name, \"Testing Data\")\n",
    "test_data"
   ]
  },
  {
   "cell_type": "code",
   "execution_count": 182,
   "metadata": {},
   "outputs": [
    {
     "data": {
      "text/html": [
       "<div>\n",
       "<style scoped>\n",
       "    .dataframe tbody tr th:only-of-type {\n",
       "        vertical-align: middle;\n",
       "    }\n",
       "\n",
       "    .dataframe tbody tr th {\n",
       "        vertical-align: top;\n",
       "    }\n",
       "\n",
       "    .dataframe thead th {\n",
       "        text-align: right;\n",
       "    }\n",
       "</style>\n",
       "<table border=\"1\" class=\"dataframe\">\n",
       "  <thead>\n",
       "    <tr style=\"text-align: right;\">\n",
       "      <th></th>\n",
       "      <th>Year</th>\n",
       "      <th>Population</th>\n",
       "      <th>Export Value Index</th>\n",
       "      <th>Mortality Rate</th>\n",
       "    </tr>\n",
       "  </thead>\n",
       "  <tbody>\n",
       "    <tr>\n",
       "      <th>0</th>\n",
       "      <td>2011</td>\n",
       "      <td>34339328.0</td>\n",
       "      <td>163.162287</td>\n",
       "      <td>4.9</td>\n",
       "    </tr>\n",
       "    <tr>\n",
       "      <th>1</th>\n",
       "      <td>2012</td>\n",
       "      <td>34714222.0</td>\n",
       "      <td>164.701312</td>\n",
       "      <td>4.9</td>\n",
       "    </tr>\n",
       "    <tr>\n",
       "      <th>2</th>\n",
       "      <td>2013</td>\n",
       "      <td>35082954.0</td>\n",
       "      <td>165.686768</td>\n",
       "      <td>4.8</td>\n",
       "    </tr>\n",
       "    <tr>\n",
       "      <th>3</th>\n",
       "      <td>2014</td>\n",
       "      <td>35437435.0</td>\n",
       "      <td>172.187604</td>\n",
       "      <td>4.7</td>\n",
       "    </tr>\n",
       "    <tr>\n",
       "      <th>4</th>\n",
       "      <td>2015</td>\n",
       "      <td>35702908.0</td>\n",
       "      <td>148.241911</td>\n",
       "      <td>4.7</td>\n",
       "    </tr>\n",
       "  </tbody>\n",
       "</table>\n",
       "</div>"
      ],
      "text/plain": [
       "   Year  Population  Export Value Index  Mortality Rate\n",
       "0  2011  34339328.0          163.162287             4.9\n",
       "1  2012  34714222.0          164.701312             4.9\n",
       "2  2013  35082954.0          165.686768             4.8\n",
       "3  2014  35437435.0          172.187604             4.7\n",
       "4  2015  35702908.0          148.241911             4.7"
      ]
     },
     "execution_count": 182,
     "metadata": {},
     "output_type": "execute_result"
    }
   ],
   "source": [
    "# Fill the missing values in the testing set\n",
    "test_data = handle_missing_value_test_data()\n",
    "test_data.head()"
   ]
  },
  {
   "attachments": {},
   "cell_type": "markdown",
   "metadata": {},
   "source": [
    "#### Data Visualization"
   ]
  },
  {
   "cell_type": "code",
   "execution_count": 183,
   "metadata": {},
   "outputs": [
    {
     "data": {
      "text/plain": [
       "<seaborn.axisgrid.FacetGrid at 0x1ccc6ee8af0>"
      ]
     },
     "execution_count": 183,
     "metadata": {},
     "output_type": "execute_result"
    }
   ],
   "source": [
    "plotTarget = sns.displot(data=train_data, x=train_data.Year, y=train_data.Population)\n",
    "plotTarget.set(title='Population Distribution for Selected Country in Different Years')\n",
    "plotTarget.set(xlabel='Year', ylabel='Population')"
   ]
  },
  {
   "cell_type": "code",
   "execution_count": 184,
   "metadata": {},
   "outputs": [
    {
     "data": {
      "text/plain": [
       "<seaborn.axisgrid.FacetGrid at 0x1ccc65028b0>"
      ]
     },
     "execution_count": 184,
     "metadata": {},
     "output_type": "execute_result"
    }
   ],
   "source": [
    "plotTarget1 = sns.displot(data=train_data, x=train_data.Year)\n",
    "plotTarget1.set(title='Data Distribution for Different Years')\n",
    "plotTarget1.set(xlabel='Year')"
   ]
  },
  {
   "attachments": {},
   "cell_type": "markdown",
   "metadata": {},
   "source": [
    "### Machine Learning Model\n",
    "\n",
    "#### Feature Matrix, X and Target Vector, y"
   ]
  },
  {
   "cell_type": "code",
   "execution_count": 185,
   "metadata": {},
   "outputs": [
    {
     "name": "stdout",
     "output_type": "stream",
     "text": [
      "Dimension of X  = (31, 4)\n",
      "Type of X  = <class 'pandas.core.frame.DataFrame'>\n",
      "\n",
      "Dimension of y  = (31,)\n",
      "Type of y  = <class 'pandas.core.series.Series'>\n"
     ]
    }
   ],
   "source": [
    "# Drop the target feature from the train data\n",
    "X = train_data.drop('GDP in Ten Years', axis=1)\n",
    "y = train_data['GDP in Ten Years']\n",
    "\n",
    "# Shape and dimension\n",
    "print(\"Dimension of X  = {}\\nType of X  = {}\\n\\nDimension of y  = {}\\nType of y  = {}\".format(X.shape, type(X), y.shape, type(y)))"
   ]
  },
  {
   "attachments": {},
   "cell_type": "markdown",
   "metadata": {},
   "source": [
    "##### Correlation heatmap of features \n",
    "\n",
    "To understand if pairs of features are potentially related, contain similar information, pair-wise cross-correlation can be calculated. Models benefit most from un-correlated features."
   ]
  },
  {
   "cell_type": "code",
   "execution_count": 186,
   "metadata": {},
   "outputs": [],
   "source": [
    "dataMap = sns.heatmap(X.corr(), vmin= -1, vmax= 1, annot= True, cmap='BrBG')"
   ]
  },
  {
   "cell_type": "code",
   "execution_count": 187,
   "metadata": {},
   "outputs": [],
   "source": [
    "#add boxplot of features\n",
    "plot = sns.boxplot(data= X)"
   ]
  },
  {
   "cell_type": "code",
   "execution_count": 188,
   "metadata": {},
   "outputs": [
    {
     "data": {
      "text/plain": [
       "((24, 4), (7, 4))"
      ]
     },
     "execution_count": 188,
     "metadata": {},
     "output_type": "execute_result"
    }
   ],
   "source": [
    "# Create a training and a validation set\n",
    "X_train, X_test, y_train, y_test = train_test_split(X, y, test_size=0.2, random_state=298)\n",
    "X_train.shape, X_test.shape"
   ]
  },
  {
   "attachments": {},
   "cell_type": "markdown",
   "metadata": {},
   "source": [
    "#### Compare model"
   ]
  },
  {
   "cell_type": "code",
   "execution_count": 189,
   "metadata": {},
   "outputs": [
    {
     "data": {
      "text/html": [
       "<div>\n",
       "<style scoped>\n",
       "    .dataframe tbody tr th:only-of-type {\n",
       "        vertical-align: middle;\n",
       "    }\n",
       "\n",
       "    .dataframe tbody tr th {\n",
       "        vertical-align: top;\n",
       "    }\n",
       "\n",
       "    .dataframe thead th {\n",
       "        text-align: right;\n",
       "    }\n",
       "</style>\n",
       "<table border=\"1\" class=\"dataframe\">\n",
       "  <thead>\n",
       "    <tr style=\"text-align: right;\">\n",
       "      <th></th>\n",
       "      <th>Model Name</th>\n",
       "      <th>R2 Score</th>\n",
       "    </tr>\n",
       "  </thead>\n",
       "  <tbody>\n",
       "    <tr>\n",
       "      <th>0</th>\n",
       "      <td>Linear Regression</td>\n",
       "      <td>0.845649</td>\n",
       "    </tr>\n",
       "    <tr>\n",
       "      <th>1</th>\n",
       "      <td>Random forest</td>\n",
       "      <td>0.896805</td>\n",
       "    </tr>\n",
       "    <tr>\n",
       "      <th>2</th>\n",
       "      <td>Gradient Boosting Regressor</td>\n",
       "      <td>0.898047</td>\n",
       "    </tr>\n",
       "  </tbody>\n",
       "</table>\n",
       "</div>"
      ],
      "text/plain": [
       "                    Model Name  R2 Score\n",
       "0            Linear Regression  0.845649\n",
       "1                Random forest  0.896805\n",
       "2  Gradient Boosting Regressor  0.898047"
      ]
     },
     "execution_count": 189,
     "metadata": {},
     "output_type": "execute_result"
    }
   ],
   "source": [
    "# Train the machine learning model\n",
    "init_models = { 'Linear Regression': LinearRegression(),\n",
    "                'Random forest': RandomForestRegressor(random_state=64),\n",
    "                'Gradient Boosting Regressor': GradientBoostingRegressor(random_state=79),\n",
    "               }\n",
    "R2 = []\n",
    "models_names = []\n",
    "for i, (key,model) in enumerate(init_models.items()):\n",
    "    model.fit(X_train, y_train)\n",
    "    models_names.append(key)\n",
    "    R2.append(np.mean(cross_val_score(model, X_train, y_train, cv=5)))\n",
    "models_scores = pd.DataFrame({'Model Name': models_names, 'R2 Score': R2})\n",
    "models_scores.head()"
   ]
  },
  {
   "cell_type": "code",
   "execution_count": 190,
   "metadata": {},
   "outputs": [
    {
     "name": "stdout",
     "output_type": "stream",
     "text": [
      "Best Model:\n",
      "Model Name    Gradient Boosting Regressor\n",
      "R2 Score                         0.898047\n",
      "Name: 2, dtype: object\n"
     ]
    }
   ],
   "source": [
    "# Choose the best model with the highest R2 score\n",
    "models_scores.sort_values('R2 Score', ascending=False, inplace=True)\n",
    "best_model = models_scores.iloc[0]\n",
    "\n",
    "print('Best Model:')\n",
    "print(best_model)"
   ]
  },
  {
   "cell_type": "code",
   "execution_count": 191,
   "metadata": {},
   "outputs": [
    {
     "data": {
      "text/html": [
       "<style>#sk-container-id-7 {color: black;background-color: white;}#sk-container-id-7 pre{padding: 0;}#sk-container-id-7 div.sk-toggleable {background-color: white;}#sk-container-id-7 label.sk-toggleable__label {cursor: pointer;display: block;width: 100%;margin-bottom: 0;padding: 0.3em;box-sizing: border-box;text-align: center;}#sk-container-id-7 label.sk-toggleable__label-arrow:before {content: \"▸\";float: left;margin-right: 0.25em;color: #696969;}#sk-container-id-7 label.sk-toggleable__label-arrow:hover:before {color: black;}#sk-container-id-7 div.sk-estimator:hover label.sk-toggleable__label-arrow:before {color: black;}#sk-container-id-7 div.sk-toggleable__content {max-height: 0;max-width: 0;overflow: hidden;text-align: left;background-color: #f0f8ff;}#sk-container-id-7 div.sk-toggleable__content pre {margin: 0.2em;color: black;border-radius: 0.25em;background-color: #f0f8ff;}#sk-container-id-7 input.sk-toggleable__control:checked~div.sk-toggleable__content {max-height: 200px;max-width: 100%;overflow: auto;}#sk-container-id-7 input.sk-toggleable__control:checked~label.sk-toggleable__label-arrow:before {content: \"▾\";}#sk-container-id-7 div.sk-estimator input.sk-toggleable__control:checked~label.sk-toggleable__label {background-color: #d4ebff;}#sk-container-id-7 div.sk-label input.sk-toggleable__control:checked~label.sk-toggleable__label {background-color: #d4ebff;}#sk-container-id-7 input.sk-hidden--visually {border: 0;clip: rect(1px 1px 1px 1px);clip: rect(1px, 1px, 1px, 1px);height: 1px;margin: -1px;overflow: hidden;padding: 0;position: absolute;width: 1px;}#sk-container-id-7 div.sk-estimator {font-family: monospace;background-color: #f0f8ff;border: 1px dotted black;border-radius: 0.25em;box-sizing: border-box;margin-bottom: 0.5em;}#sk-container-id-7 div.sk-estimator:hover {background-color: #d4ebff;}#sk-container-id-7 div.sk-parallel-item::after {content: \"\";width: 100%;border-bottom: 1px solid gray;flex-grow: 1;}#sk-container-id-7 div.sk-label:hover label.sk-toggleable__label {background-color: #d4ebff;}#sk-container-id-7 div.sk-serial::before {content: \"\";position: absolute;border-left: 1px solid gray;box-sizing: border-box;top: 0;bottom: 0;left: 50%;z-index: 0;}#sk-container-id-7 div.sk-serial {display: flex;flex-direction: column;align-items: center;background-color: white;padding-right: 0.2em;padding-left: 0.2em;position: relative;}#sk-container-id-7 div.sk-item {position: relative;z-index: 1;}#sk-container-id-7 div.sk-parallel {display: flex;align-items: stretch;justify-content: center;background-color: white;position: relative;}#sk-container-id-7 div.sk-item::before, #sk-container-id-7 div.sk-parallel-item::before {content: \"\";position: absolute;border-left: 1px solid gray;box-sizing: border-box;top: 0;bottom: 0;left: 50%;z-index: -1;}#sk-container-id-7 div.sk-parallel-item {display: flex;flex-direction: column;z-index: 1;position: relative;background-color: white;}#sk-container-id-7 div.sk-parallel-item:first-child::after {align-self: flex-end;width: 50%;}#sk-container-id-7 div.sk-parallel-item:last-child::after {align-self: flex-start;width: 50%;}#sk-container-id-7 div.sk-parallel-item:only-child::after {width: 0;}#sk-container-id-7 div.sk-dashed-wrapped {border: 1px dashed gray;margin: 0 0.4em 0.5em 0.4em;box-sizing: border-box;padding-bottom: 0.4em;background-color: white;}#sk-container-id-7 div.sk-label label {font-family: monospace;font-weight: bold;display: inline-block;line-height: 1.2em;}#sk-container-id-7 div.sk-label-container {text-align: center;}#sk-container-id-7 div.sk-container {/* jupyter's `normalize.less` sets `[hidden] { display: none; }` but bootstrap.min.css set `[hidden] { display: none !important; }` so we also need the `!important` here to be able to override the default hidden behavior on the sphinx rendered scikit-learn.org. See: https://github.com/scikit-learn/scikit-learn/issues/21755 */display: inline-block !important;position: relative;}#sk-container-id-7 div.sk-text-repr-fallback {display: none;}</style><div id=\"sk-container-id-7\" class=\"sk-top-container\"><div class=\"sk-text-repr-fallback\"><pre>GradientBoostingRegressor(random_state=79)</pre><b>In a Jupyter environment, please rerun this cell to show the HTML representation or trust the notebook. <br />On GitHub, the HTML representation is unable to render, please try loading this page with nbviewer.org.</b></div><div class=\"sk-container\" hidden><div class=\"sk-item\"><div class=\"sk-estimator sk-toggleable\"><input class=\"sk-toggleable__control sk-hidden--visually\" id=\"sk-estimator-id-7\" type=\"checkbox\" checked><label for=\"sk-estimator-id-7\" class=\"sk-toggleable__label sk-toggleable__label-arrow\">GradientBoostingRegressor</label><div class=\"sk-toggleable__content\"><pre>GradientBoostingRegressor(random_state=79)</pre></div></div></div></div></div>"
      ],
      "text/plain": [
       "GradientBoostingRegressor(random_state=79)"
      ]
     },
     "execution_count": 191,
     "metadata": {},
     "output_type": "execute_result"
    }
   ],
   "source": [
    "best_model_name = best_model['Model Name']\n",
    "best_model = init_models[best_model_name]\n",
    "best_model.fit(X_train, y_train)"
   ]
  },
  {
   "cell_type": "code",
   "execution_count": 192,
   "metadata": {},
   "outputs": [],
   "source": [
    "# R2_train = []\n",
    "# R2_test = []\n",
    "# y_pred_train = best_model.predict(X_train)\n",
    "# y_pred_test = best_model.predict(X_test)\n",
    "# R2_train.append(r2_score(y_train, y_pred_train))\n",
    "# R2_test.append(r2_score(y_test, y_pred_test))\n",
    "\n",
    "# # Create a dataframe with the R2 scores for each model\n",
    "# models_scores = pd.DataFrame({'Model Name': best_model,'R2 Train': R2_train, 'R2 Test': R2_test})\n",
    "# models_scores\n",
    "\n",
    "# y_pred_test"
   ]
  },
  {
   "attachments": {},
   "cell_type": "markdown",
   "metadata": {},
   "source": [
    "**Predict using the test data**"
   ]
  },
  {
   "cell_type": "code",
   "execution_count": 193,
   "metadata": {},
   "outputs": [
    {
     "data": {
      "text/plain": [
       "array([1.72102102e+12, 1.72102102e+12, 1.72102102e+12, 1.72102102e+12,\n",
       "       1.61274884e+12, 1.61274884e+12, 1.61274884e+12, 1.72102102e+12,\n",
       "       1.72102102e+12, 1.61274884e+12])"
      ]
     },
     "execution_count": 193,
     "metadata": {},
     "output_type": "execute_result"
    }
   ],
   "source": [
    "prediction = best_model.predict(test_data)\n",
    "prediction"
   ]
  },
  {
   "cell_type": "code",
   "execution_count": 194,
   "metadata": {},
   "outputs": [
    {
     "data": {
      "text/html": [
       "<div>\n",
       "<style scoped>\n",
       "    .dataframe tbody tr th:only-of-type {\n",
       "        vertical-align: middle;\n",
       "    }\n",
       "\n",
       "    .dataframe tbody tr th {\n",
       "        vertical-align: top;\n",
       "    }\n",
       "\n",
       "    .dataframe thead th {\n",
       "        text-align: right;\n",
       "    }\n",
       "</style>\n",
       "<table border=\"1\" class=\"dataframe\">\n",
       "  <thead>\n",
       "    <tr style=\"text-align: right;\">\n",
       "      <th></th>\n",
       "      <th>Year</th>\n",
       "      <th>GDP</th>\n",
       "    </tr>\n",
       "  </thead>\n",
       "  <tbody>\n",
       "    <tr>\n",
       "      <th>0</th>\n",
       "      <td>2021</td>\n",
       "      <td>1.721021e+12</td>\n",
       "    </tr>\n",
       "    <tr>\n",
       "      <th>1</th>\n",
       "      <td>2022</td>\n",
       "      <td>1.721021e+12</td>\n",
       "    </tr>\n",
       "    <tr>\n",
       "      <th>2</th>\n",
       "      <td>2023</td>\n",
       "      <td>1.721021e+12</td>\n",
       "    </tr>\n",
       "    <tr>\n",
       "      <th>3</th>\n",
       "      <td>2024</td>\n",
       "      <td>1.721021e+12</td>\n",
       "    </tr>\n",
       "    <tr>\n",
       "      <th>4</th>\n",
       "      <td>2025</td>\n",
       "      <td>1.612749e+12</td>\n",
       "    </tr>\n",
       "    <tr>\n",
       "      <th>5</th>\n",
       "      <td>2026</td>\n",
       "      <td>1.612749e+12</td>\n",
       "    </tr>\n",
       "    <tr>\n",
       "      <th>6</th>\n",
       "      <td>2027</td>\n",
       "      <td>1.612749e+12</td>\n",
       "    </tr>\n",
       "    <tr>\n",
       "      <th>7</th>\n",
       "      <td>2028</td>\n",
       "      <td>1.721021e+12</td>\n",
       "    </tr>\n",
       "    <tr>\n",
       "      <th>8</th>\n",
       "      <td>2029</td>\n",
       "      <td>1.721021e+12</td>\n",
       "    </tr>\n",
       "    <tr>\n",
       "      <th>9</th>\n",
       "      <td>2030</td>\n",
       "      <td>1.612749e+12</td>\n",
       "    </tr>\n",
       "  </tbody>\n",
       "</table>\n",
       "</div>"
      ],
      "text/plain": [
       "   Year           GDP\n",
       "0  2021  1.721021e+12\n",
       "1  2022  1.721021e+12\n",
       "2  2023  1.721021e+12\n",
       "3  2024  1.721021e+12\n",
       "4  2025  1.612749e+12\n",
       "5  2026  1.612749e+12\n",
       "6  2027  1.612749e+12\n",
       "7  2028  1.721021e+12\n",
       "8  2029  1.721021e+12\n",
       "9  2030  1.612749e+12"
      ]
     },
     "execution_count": 194,
     "metadata": {},
     "output_type": "execute_result"
    }
   ],
   "source": [
    "# Create a conclusion dataframe and append 'Year' columns\n",
    "conclusion = pd.DataFrame()\n",
    "conclusion['Year'] = test_data['Year'] + 10\n",
    "conclusion['GDP'] = prediction\n",
    "conclusion"
   ]
  },
  {
   "cell_type": "code",
   "execution_count": 195,
   "metadata": {},
   "outputs": [],
   "source": [
    "# Save model prediction as a csv file\n",
    "conclusion.to_csv(country_name+'_prediction.csv', index=False)"
   ]
  }
 ],
 "metadata": {
  "kernelspec": {
   "display_name": "ensf611",
   "language": "python",
   "name": "python3"
  },
  "language_info": {
   "codemirror_mode": {
    "name": "ipython",
    "version": 3
   },
   "file_extension": ".py",
   "mimetype": "text/x-python",
   "name": "python",
   "nbconvert_exporter": "python",
   "pygments_lexer": "ipython3",
   "version": "3.9.13"
  },
  "orig_nbformat": 4,
  "vscode": {
   "interpreter": {
    "hash": "3531a948681436ec7ee37a2509ccb01310053b39660aebb3add732121a1e69a7"
   }
  }
 },
 "nbformat": 4,
 "nbformat_minor": 2
}
